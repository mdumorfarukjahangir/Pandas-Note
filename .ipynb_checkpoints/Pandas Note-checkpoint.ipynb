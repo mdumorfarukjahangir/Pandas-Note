{
 "cells": [
  {
   "cell_type": "markdown",
   "metadata": {},
   "source": [
    "# Pandas Note :)\n",
    "\n",
    "Pandas is a Python library used for working with data sets.It has functions for analyzing, cleaning, exploring, and manipulating data.\n",
    "\n",
    "###  Why Use Pandas?\n",
    "Pandas allows us to analyze big data and make conclusions based on statistical theories.\n",
    "Pandas can clean messy data sets, and make them readable and relevant.\n",
    "Relevant data is very important in data science."
   ]
  },
  {
   "cell_type": "code",
   "execution_count": 11,
   "metadata": {},
   "outputs": [],
   "source": [
    "import pandas as pd"
   ]
  },
  {
   "cell_type": "code",
   "execution_count": 12,
   "metadata": {},
   "outputs": [
    {
     "name": "stdout",
     "output_type": "stream",
     "text": [
      "1.1.1\n"
     ]
    }
   ],
   "source": [
    "print(pd.__version__)"
   ]
  },
  {
   "cell_type": "markdown",
   "metadata": {},
   "source": [
    "## What is a Series?\n",
    "\n",
    "A Pandas Series is like a column in a table.\n",
    "It is a one-dimensional array holding data of any type."
   ]
  },
  {
   "cell_type": "code",
   "execution_count": 13,
   "metadata": {},
   "outputs": [
    {
     "name": "stdout",
     "output_type": "stream",
     "text": [
      "0    1\n",
      "1    9\n",
      "2    7\n",
      "3    6\n",
      "dtype: int64\n"
     ]
    }
   ],
   "source": [
    "#Create a simple Pandas Series from a list:\n",
    "series = [1,9,7,6]\n",
    "#print(series)\n",
    "newseries = pd.Series(series)\n",
    "# print(newseries[0]) - value of 0 index\n",
    "print(newseries)"
   ]
  },
  {
   "cell_type": "code",
   "execution_count": 14,
   "metadata": {},
   "outputs": [
    {
     "name": "stdout",
     "output_type": "stream",
     "text": [
      "X    1\n",
      "Y    4\n",
      "Z    5\n",
      "0    8\n",
      "dtype: int64\n"
     ]
    }
   ],
   "source": [
    "#Create you own label \n",
    "value = [1,4,5,8]\n",
    "series = pd.Series(value, index=['X','Y','Z','0'])\n",
    "print(series)"
   ]
  },
  {
   "cell_type": "code",
   "execution_count": 15,
   "metadata": {},
   "outputs": [
    {
     "name": "stdout",
     "output_type": "stream",
     "text": [
      "8\n"
     ]
    }
   ],
   "source": [
    "#When you have created labels, you can access an item by referring to the label.\n",
    "#Return the value of \"y\":\n",
    "print(series['0'])"
   ]
  },
  {
   "cell_type": "markdown",
   "metadata": {},
   "source": [
    "## Key/Value Objects as Series\n",
    "You can also use a key/value object, like a dictionary, when creating a Series.\n"
   ]
  },
  {
   "cell_type": "code",
   "execution_count": 21,
   "metadata": {},
   "outputs": [
    {
     "name": "stdout",
     "output_type": "stream",
     "text": [
      "Sakib\n",
      "Tamim\n",
      "Mushfiq\n"
     ]
    }
   ],
   "source": [
    "#Create a simple Pandas Series from a dictionary:\n",
    "students = {1:\"Sakib\", 2:\"Tamim\", 3:\"Mushfiq\"}\n",
    "series = pd.Series(students)\n",
    "#print(series)  \n",
    "# print(series[1])\n",
    "for x in series:\n",
    "    print(x)\n"
   ]
  },
  {
   "cell_type": "markdown",
   "metadata": {},
   "source": [
    "### Note: The keys of the dictionary become the labels."
   ]
  },
  {
   "cell_type": "code",
   "execution_count": 23,
   "metadata": {},
   "outputs": [
    {
     "name": "stdout",
     "output_type": "stream",
     "text": [
      "1    Sakib\n",
      "2    Tamim\n",
      "dtype: object\n"
     ]
    }
   ],
   "source": [
    "#Create a Series using only data from \"day1\" and \"day2\":\n",
    "students = {1:\"Sakib\", 2:\"Tamim\", 3:\"Mushfiq\"}\n",
    "stdinfo = pd.Series(students, index=[1,2])\n",
    "print(stdinfo)"
   ]
  },
  {
   "cell_type": "markdown",
   "metadata": {},
   "source": [
    "## What is a DataFrame?\n",
    "A Pandas DataFrame is a 2 dimensional data structure, like a 2 dimensional array, or a table with rows and columns."
   ]
  },
  {
   "cell_type": "code",
   "execution_count": 66,
   "metadata": {},
   "outputs": [
    {
     "name": "stdout",
     "output_type": "stream",
     "text": [
      "      Name Department\n",
      "0     Asik        CSE\n",
      "1  Mustofa        EEE\n",
      "2    Sofiq        ECE\n"
     ]
    }
   ],
   "source": [
    "#Create a simple Pandas Dateframe \n",
    "student = {\n",
    "    \"Name\" : [\"Asik\",\"Mustofa\",\"Sofiq\"],\n",
    "    \"Department\" : [\"CSE\",\"EEE\",\"ECE\"]\n",
    "}\n",
    "#load data into a DataFrame object \n",
    "df = pd.DataFrame(student)\n",
    "print(df)"
   ]
  },
  {
   "cell_type": "markdown",
   "metadata": {},
   "source": [
    "## Locate Row\n",
    "As you can see from the result above, the DataFrame is like a table with rows and columns.\n",
    "Pandas use the loc attribute to return one or more specified row(s)"
   ]
  },
  {
   "cell_type": "code",
   "execution_count": 33,
   "metadata": {},
   "outputs": [
    {
     "name": "stdout",
     "output_type": "stream",
     "text": [
      "Name          Asik\n",
      "Department     CSE\n",
      "Name: 0, dtype: object\n",
      "Name of the Second row: Mustofa\n"
     ]
    }
   ],
   "source": [
    "print(df.loc[0])\n",
    "print(\"Name of the Second row: \" + df.loc[1][0])"
   ]
  },
  {
   "cell_type": "code",
   "execution_count": 82,
   "metadata": {},
   "outputs": [
    {
     "name": "stdout",
     "output_type": "stream",
     "text": [
      "      Name Department\n",
      "1  Mustofa        EEE\n",
      "2    Sofiq        ECE\n"
     ]
    }
   ],
   "source": [
    "#use a list of indexes:\n",
    "student = {\n",
    "    \"Name\" : [\"Asik\",\"Mustofa\",\"Sofiq\"],\n",
    "    \"Department\" : [\"CSE\",\"EEE\",\"ECE\"]\n",
    "}\n",
    "df = pd.DataFrame(student)\n",
    "print(df.loc[[1,2]])"
   ]
  },
  {
   "cell_type": "code",
   "execution_count": 84,
   "metadata": {},
   "outputs": [
    {
     "name": "stdout",
     "output_type": "stream",
     "text": [
      "        Name Department\n",
      "100     Asik        CSE\n",
      "200  Mustofa        EEE\n",
      "300    Sofiq        ECE\n"
     ]
    }
   ],
   "source": [
    "#Add a list of names to give each row a name:\n",
    "student = {\n",
    "    \"Name\" : [\"Asik\",\"Mustofa\",\"Sofiq\"],\n",
    "    \"Department\" : [\"CSE\",\"EEE\",\"ECE\"]\n",
    "}\n",
    "df = pd.DataFrame(student, index=[100, 200, 300])\n",
    "print(df)"
   ]
  },
  {
   "cell_type": "code",
   "execution_count": 86,
   "metadata": {},
   "outputs": [
    {
     "name": "stdout",
     "output_type": "stream",
     "text": [
      "Name          Asik\n",
      "Department     CSE\n",
      "Name: 100, dtype: object\n"
     ]
    }
   ],
   "source": [
    "#refer to the named index:\n",
    "print(df.loc[100])"
   ]
  },
  {
   "cell_type": "markdown",
   "metadata": {},
   "source": [
    "# Pandas Read CSV\n",
    "A simple way to store big data sets is to use CSV files (comma separated files).\n",
    "CSV files contains plain text and is a well know format that can be read by everyone including Pandas.\n",
    "\n",
    "Use : read_csv('path')\n"
   ]
  },
  {
   "cell_type": "code",
   "execution_count": 100,
   "metadata": {},
   "outputs": [
    {
     "name": "stdout",
     "output_type": "stream",
     "text": [
      "     0.00632  18.00   2.310  0  0.5380  6.5750  65.20  4.0900   1  296.0  15.30 396.90   4.98  24.00\n",
      "0     0.02731   0.00   7.070  0  0.4690  6.4210  78...                                              \n",
      "1     0.02729   0.00   7.070  0  0.4690  7.1850  61...                                              \n",
      "2     0.03237   0.00   2.180  0  0.4580  6.9980  45...                                              \n",
      "3     0.06905   0.00   2.180  0  0.4580  7.1470  54...                                              \n",
      "4     0.02985   0.00   2.180  0  0.4580  6.4300  58...                                              \n",
      "..                                                 ...                                              \n",
      "500   0.06263   0.00  11.930  0  0.5730  6.5930  69...                                              \n",
      "501   0.04527   0.00  11.930  0  0.5730  6.1200  76...                                              \n",
      "502   0.06076   0.00  11.930  0  0.5730  6.9760  91...                                              \n",
      "503   0.10959   0.00  11.930  0  0.5730  6.7940  89...                                              \n",
      "504   0.04741   0.00  11.930  0  0.5730  6.0300  80...                                              \n",
      "\n",
      "[505 rows x 1 columns]\n"
     ]
    }
   ],
   "source": [
    "df = pd.read_csv('housing.csv')\n",
    "print(df)\n",
    "# print(df.to_string())  Print the entire DataFrame"
   ]
  },
  {
   "cell_type": "markdown",
   "metadata": {},
   "source": [
    "### Viewing the Data\n",
    "One of the most used method for getting a quick overview of the DataFrame, is the head() method.\n",
    "The head() method returns the headers and a specified number of rows, starting from the top."
   ]
  },
  {
   "cell_type": "code",
   "execution_count": 101,
   "metadata": {},
   "outputs": [
    {
     "name": "stdout",
     "output_type": "stream",
     "text": [
      "   0.00632  18.00   2.310  0  0.5380  6.5750  65.20  4.0900   1  296.0  15.30 396.90   4.98  24.00\n",
      "0   0.02731   0.00   7.070  0  0.4690  6.4210  78...                                              \n",
      "1   0.02729   0.00   7.070  0  0.4690  7.1850  61...                                              \n",
      "2   0.03237   0.00   2.180  0  0.4580  6.9980  45...                                              \n",
      "3   0.06905   0.00   2.180  0  0.4580  7.1470  54...                                              \n",
      "4   0.02985   0.00   2.180  0  0.4580  6.4300  58...                                              \n",
      "5   0.08829  12.50   7.870  0  0.5240  6.0120  66...                                              \n",
      "6   0.14455  12.50   7.870  0  0.5240  6.1720  96...                                              \n",
      "7   0.21124  12.50   7.870  0  0.5240  5.6310 100...                                              \n",
      "8   0.17004  12.50   7.870  0  0.5240  6.0040  85...                                              \n",
      "9   0.22489  12.50   7.870  0  0.5240  6.3770  94...                                              \n"
     ]
    }
   ],
   "source": [
    "#Get a quick overview by printing the first 10 rows of the DataFrame:\n",
    "print(df.head(10))\n",
    "\n",
    "# print(df.head()) Note : if the number of rows is not specified, the head() method will return the top 5 rows."
   ]
  },
  {
   "cell_type": "markdown",
   "metadata": {},
   "source": [
    "## tail()\n",
    "There is also a tail() method for viewing the last rows of the DataFrame.\n",
    "\n",
    "The tail() method returns the headers and a specified number of rows, starting from the bottom."
   ]
  },
  {
   "cell_type": "code",
   "execution_count": 102,
   "metadata": {},
   "outputs": [
    {
     "name": "stdout",
     "output_type": "stream",
     "text": [
      "     0.00632  18.00   2.310  0  0.5380  6.5750  65.20  4.0900   1  296.0  15.30 396.90   4.98  24.00\n",
      "500   0.06263   0.00  11.930  0  0.5730  6.5930  69...                                              \n",
      "501   0.04527   0.00  11.930  0  0.5730  6.1200  76...                                              \n",
      "502   0.06076   0.00  11.930  0  0.5730  6.9760  91...                                              \n",
      "503   0.10959   0.00  11.930  0  0.5730  6.7940  89...                                              \n",
      "504   0.04741   0.00  11.930  0  0.5730  6.0300  80...                                              \n"
     ]
    }
   ],
   "source": [
    "print(df.tail())   \n",
    "# You can pass parameter also line ->  tail(100) that returns last 100 values"
   ]
  },
  {
   "cell_type": "markdown",
   "metadata": {},
   "source": [
    "# Info About the Data\n",
    "The DataFrames object has a method called info(), that gives you more information about the data set."
   ]
  },
  {
   "cell_type": "code",
   "execution_count": 104,
   "metadata": {},
   "outputs": [
    {
     "name": "stdout",
     "output_type": "stream",
     "text": [
      "<class 'pandas.core.frame.DataFrame'>\n",
      "RangeIndex: 169 entries, 0 to 168\n",
      "Data columns (total 4 columns):\n",
      " #   Column    Non-Null Count  Dtype  \n",
      "---  ------    --------------  -----  \n",
      " 0   Duration  169 non-null    int64  \n",
      " 1   Pulse     169 non-null    int64  \n",
      " 2   Maxpulse  169 non-null    int64  \n",
      " 3   Calories  164 non-null    float64\n",
      "dtypes: float64(1), int64(3)\n",
      "memory usage: 5.3 KB\n",
      "None\n"
     ]
    }
   ],
   "source": [
    "#Print information about the data:\n",
    "df = pd.read_csv('data.csv')\n",
    "print(df.info())"
   ]
  },
  {
   "cell_type": "code",
   "execution_count": 105,
   "metadata": {},
   "outputs": [
    {
     "data": {
      "text/html": [
       "<div>\n",
       "<style scoped>\n",
       "    .dataframe tbody tr th:only-of-type {\n",
       "        vertical-align: middle;\n",
       "    }\n",
       "\n",
       "    .dataframe tbody tr th {\n",
       "        vertical-align: top;\n",
       "    }\n",
       "\n",
       "    .dataframe thead th {\n",
       "        text-align: right;\n",
       "    }\n",
       "</style>\n",
       "<table border=\"1\" class=\"dataframe\">\n",
       "  <thead>\n",
       "    <tr style=\"text-align: right;\">\n",
       "      <th></th>\n",
       "      <th>Duration</th>\n",
       "      <th>Pulse</th>\n",
       "      <th>Maxpulse</th>\n",
       "      <th>Calories</th>\n",
       "    </tr>\n",
       "  </thead>\n",
       "  <tbody>\n",
       "    <tr>\n",
       "      <th>count</th>\n",
       "      <td>169.000000</td>\n",
       "      <td>169.000000</td>\n",
       "      <td>169.000000</td>\n",
       "      <td>164.000000</td>\n",
       "    </tr>\n",
       "    <tr>\n",
       "      <th>mean</th>\n",
       "      <td>63.846154</td>\n",
       "      <td>107.461538</td>\n",
       "      <td>134.047337</td>\n",
       "      <td>375.790244</td>\n",
       "    </tr>\n",
       "    <tr>\n",
       "      <th>std</th>\n",
       "      <td>42.299949</td>\n",
       "      <td>14.510259</td>\n",
       "      <td>16.450434</td>\n",
       "      <td>266.379919</td>\n",
       "    </tr>\n",
       "    <tr>\n",
       "      <th>min</th>\n",
       "      <td>15.000000</td>\n",
       "      <td>80.000000</td>\n",
       "      <td>100.000000</td>\n",
       "      <td>50.300000</td>\n",
       "    </tr>\n",
       "    <tr>\n",
       "      <th>25%</th>\n",
       "      <td>45.000000</td>\n",
       "      <td>100.000000</td>\n",
       "      <td>124.000000</td>\n",
       "      <td>250.925000</td>\n",
       "    </tr>\n",
       "    <tr>\n",
       "      <th>50%</th>\n",
       "      <td>60.000000</td>\n",
       "      <td>105.000000</td>\n",
       "      <td>131.000000</td>\n",
       "      <td>318.600000</td>\n",
       "    </tr>\n",
       "    <tr>\n",
       "      <th>75%</th>\n",
       "      <td>60.000000</td>\n",
       "      <td>111.000000</td>\n",
       "      <td>141.000000</td>\n",
       "      <td>387.600000</td>\n",
       "    </tr>\n",
       "    <tr>\n",
       "      <th>max</th>\n",
       "      <td>300.000000</td>\n",
       "      <td>159.000000</td>\n",
       "      <td>184.000000</td>\n",
       "      <td>1860.400000</td>\n",
       "    </tr>\n",
       "  </tbody>\n",
       "</table>\n",
       "</div>"
      ],
      "text/plain": [
       "         Duration       Pulse    Maxpulse     Calories\n",
       "count  169.000000  169.000000  169.000000   164.000000\n",
       "mean    63.846154  107.461538  134.047337   375.790244\n",
       "std     42.299949   14.510259   16.450434   266.379919\n",
       "min     15.000000   80.000000  100.000000    50.300000\n",
       "25%     45.000000  100.000000  124.000000   250.925000\n",
       "50%     60.000000  105.000000  131.000000   318.600000\n",
       "75%     60.000000  111.000000  141.000000   387.600000\n",
       "max    300.000000  159.000000  184.000000  1860.400000"
      ]
     },
     "execution_count": 105,
     "metadata": {},
     "output_type": "execute_result"
    }
   ],
   "source": [
    "#df.describe() | Summary statistics for numerical columns\n",
    "df.describe()"
   ]
  },
  {
   "cell_type": "markdown",
   "metadata": {},
   "source": [
    "# Exporting Data\n",
    "#### df.to_csv(filename) | Write to a CSV file\n",
    "#### df.to_excel(filename) | Write to an Excel file\n",
    "#### df.to_sql(table_name, connection_object) | Write to a SQL table\n",
    "#### df.to_json(filename) | Write to a file in JSON format\n"
   ]
  },
  {
   "cell_type": "code",
   "execution_count": null,
   "metadata": {},
   "outputs": [],
   "source": []
  },
  {
   "cell_type": "markdown",
   "metadata": {},
   "source": [
    "# Reference \n",
    "1. https://www.dataquest.io\n",
    "2. https://www.w3schools.com/python/pandas\n",
    "3. https://www.geeksforgeeks.org/pandas-tutorial/\n",
    "4. https://jupyterlab.readthedocs.io/en/stable/user/interface.html"
   ]
  }
 ],
 "metadata": {
  "kernelspec": {
   "display_name": "Python 3",
   "language": "python",
   "name": "python3"
  },
  "language_info": {
   "codemirror_mode": {
    "name": "ipython",
    "version": 3
   },
   "file_extension": ".py",
   "mimetype": "text/x-python",
   "name": "python",
   "nbconvert_exporter": "python",
   "pygments_lexer": "ipython3",
   "version": "3.8.3"
  }
 },
 "nbformat": 4,
 "nbformat_minor": 4
}
