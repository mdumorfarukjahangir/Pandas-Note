{
 "cells": [
  {
   "cell_type": "markdown",
   "metadata": {},
   "source": [
    "# Pandas Note :)\n",
    "\n",
    "Pandas is a Python library used for working with data sets.It has functions for analyzing, cleaning, exploring, and manipulating data.\n",
    "\n",
    "###  Why Use Pandas?\n",
    "Pandas allows us to analyze big data and make conclusions based on statistical theories.\n",
    "Pandas can clean messy data sets, and make them readable and relevant.\n",
    "Relevant data is very important in data science."
   ]
  },
  {
   "cell_type": "code",
   "execution_count": 1,
   "metadata": {},
   "outputs": [],
   "source": [
    "import pandas as pd"
   ]
  },
  {
   "cell_type": "code",
   "execution_count": 2,
   "metadata": {},
   "outputs": [
    {
     "name": "stdout",
     "output_type": "stream",
     "text": [
      "1.2.4\n"
     ]
    }
   ],
   "source": [
    "print(pd.__version__)"
   ]
  },
  {
   "cell_type": "markdown",
   "metadata": {},
   "source": [
    "## What is a Series?\n",
    "\n",
    "A Pandas Series is like a column in a table.\n",
    "It is a one-dimensional array holding data of any type."
   ]
  },
  {
   "cell_type": "code",
   "execution_count": 3,
   "metadata": {},
   "outputs": [
    {
     "name": "stdout",
     "output_type": "stream",
     "text": [
      "0    1\n",
      "1    9\n",
      "2    7\n",
      "3    6\n",
      "dtype: int64\n"
     ]
    }
   ],
   "source": [
    "#Create a simple Pandas Series from a list:\n",
    "series = [1,9,7,6]\n",
    "#print(series)\n",
    "newseries = pd.Series(series)\n",
    "# print(newseries[0]) - value of 0 index\n",
    "print(newseries)"
   ]
  },
  {
   "cell_type": "code",
   "execution_count": 4,
   "metadata": {},
   "outputs": [
    {
     "name": "stdout",
     "output_type": "stream",
     "text": [
      "X    1\n",
      "Y    4\n",
      "Z    5\n",
      "0    8\n",
      "dtype: int64\n"
     ]
    }
   ],
   "source": [
    "#Create you own label \n",
    "value = [1,4,5,8]\n",
    "series = pd.Series(value, index=['X','Y','Z','0'])\n",
    "print(series)"
   ]
  },
  {
   "cell_type": "code",
   "execution_count": 5,
   "metadata": {},
   "outputs": [
    {
     "name": "stdout",
     "output_type": "stream",
     "text": [
      "8\n"
     ]
    }
   ],
   "source": [
    "#When you have created labels, you can access an item by referring to the label.\n",
    "#Return the value of \"y\":\n",
    "print(series['0'])"
   ]
  },
  {
   "cell_type": "markdown",
   "metadata": {},
   "source": [
    "## Key/Value Objects as Series\n",
    "You can also use a key/value object, like a dictionary, when creating a Series.\n"
   ]
  },
  {
   "cell_type": "code",
   "execution_count": 6,
   "metadata": {},
   "outputs": [
    {
     "name": "stdout",
     "output_type": "stream",
     "text": [
      "Sakib\n",
      "Tamim\n",
      "Mushfiq\n"
     ]
    }
   ],
   "source": [
    "#Create a simple Pandas Series from a dictionary:\n",
    "students = {1:\"Sakib\", 2:\"Tamim\", 3:\"Mushfiq\"}\n",
    "series = pd.Series(students)\n",
    "#print(series)  \n",
    "# print(series[1])\n",
    "for x in series:\n",
    "    print(x)\n"
   ]
  },
  {
   "cell_type": "markdown",
   "metadata": {},
   "source": [
    "### Note: The keys of the dictionary become the labels."
   ]
  },
  {
   "cell_type": "code",
   "execution_count": 7,
   "metadata": {},
   "outputs": [
    {
     "name": "stdout",
     "output_type": "stream",
     "text": [
      "1    Sakib\n",
      "2    Tamim\n",
      "dtype: object\n"
     ]
    }
   ],
   "source": [
    "#Create a Series using only data from \"day1\" and \"day2\":\n",
    "students = {1:\"Sakib\", 2:\"Tamim\", 3:\"Mushfiq\"}\n",
    "stdinfo = pd.Series(students, index=[1,2])\n",
    "print(stdinfo)"
   ]
  },
  {
   "cell_type": "markdown",
   "metadata": {},
   "source": [
    "## What is a DataFrame?\n",
    "A Pandas DataFrame is a 2 dimensional data structure, like a 2 dimensional array, or a table with rows and columns."
   ]
  },
  {
   "cell_type": "code",
   "execution_count": 8,
   "metadata": {},
   "outputs": [
    {
     "name": "stdout",
     "output_type": "stream",
     "text": [
      "      Name Department\n",
      "0     Asik        CSE\n",
      "1  Mustofa        EEE\n",
      "2    Sofiq        ECE\n"
     ]
    }
   ],
   "source": [
    "#Create a simple Pandas Dateframe \n",
    "student = {\n",
    "    \"Name\" : [\"Asik\",\"Mustofa\",\"Sofiq\"],\n",
    "    \"Department\" : [\"CSE\",\"EEE\",\"ECE\"]\n",
    "}\n",
    "#load data into a DataFrame object \n",
    "df = pd.DataFrame(student)\n",
    "print(df)"
   ]
  },
  {
   "cell_type": "markdown",
   "metadata": {},
   "source": [
    "## Locate Row\n",
    "As you can see from the result above, the DataFrame is like a table with rows and columns.\n",
    "Pandas use the loc attribute to return one or more specified row(s)"
   ]
  },
  {
   "cell_type": "code",
   "execution_count": 9,
   "metadata": {},
   "outputs": [
    {
     "name": "stdout",
     "output_type": "stream",
     "text": [
      "Name          Asik\n",
      "Department     CSE\n",
      "Name: 0, dtype: object\n",
      "Name of the Second row: Mustofa\n"
     ]
    }
   ],
   "source": [
    "print(df.loc[0])\n",
    "print(\"Name of the Second row: \" + df.loc[1][0])"
   ]
  },
  {
   "cell_type": "code",
   "execution_count": 10,
   "metadata": {},
   "outputs": [
    {
     "name": "stdout",
     "output_type": "stream",
     "text": [
      "      Name Department\n",
      "1  Mustofa        EEE\n",
      "2    Sofiq        ECE\n"
     ]
    }
   ],
   "source": [
    "#use a list of indexes:\n",
    "student = {\n",
    "    \"Name\" : [\"Asik\",\"Mustofa\",\"Sofiq\"],\n",
    "    \"Department\" : [\"CSE\",\"EEE\",\"ECE\"]\n",
    "}\n",
    "df = pd.DataFrame(student)\n",
    "print(df.loc[[1,2]])"
   ]
  },
  {
   "cell_type": "code",
   "execution_count": 11,
   "metadata": {},
   "outputs": [
    {
     "name": "stdout",
     "output_type": "stream",
     "text": [
      "        Name Department\n",
      "100     Asik        CSE\n",
      "200  Mustofa        EEE\n",
      "300    Sofiq        ECE\n"
     ]
    }
   ],
   "source": [
    "#Add a list of names to give each row a name:\n",
    "student = {\n",
    "    \"Name\" : [\"Asik\",\"Mustofa\",\"Sofiq\"],\n",
    "    \"Department\" : [\"CSE\",\"EEE\",\"ECE\"]\n",
    "}\n",
    "df = pd.DataFrame(student, index=[100, 200, 300])\n",
    "print(df)"
   ]
  },
  {
   "cell_type": "code",
   "execution_count": 12,
   "metadata": {},
   "outputs": [
    {
     "name": "stdout",
     "output_type": "stream",
     "text": [
      "Name          Asik\n",
      "Department     CSE\n",
      "Name: 100, dtype: object\n"
     ]
    }
   ],
   "source": [
    "#refer to the named index:\n",
    "print(df.loc[100])"
   ]
  },
  {
   "cell_type": "markdown",
   "metadata": {},
   "source": [
    "# Pandas Read CSV\n",
    "A simple way to store big data sets is to use CSV files (comma separated files).\n",
    "CSV files contains plain text and is a well know format that can be read by everyone including Pandas.\n",
    "\n",
    "Use : read_csv('path')\n"
   ]
  },
  {
   "cell_type": "code",
   "execution_count": 13,
   "metadata": {},
   "outputs": [
    {
     "name": "stdout",
     "output_type": "stream",
     "text": [
      "     0.00632  18.00   2.310  0  0.5380  6.5750  65.20  4.0900   1  296.0  15.30 396.90   4.98  24.00\n",
      "0     0.02731   0.00   7.070  0  0.4690  6.4210  78...                                              \n",
      "1     0.02729   0.00   7.070  0  0.4690  7.1850  61...                                              \n",
      "2     0.03237   0.00   2.180  0  0.4580  6.9980  45...                                              \n",
      "3     0.06905   0.00   2.180  0  0.4580  7.1470  54...                                              \n",
      "4     0.02985   0.00   2.180  0  0.4580  6.4300  58...                                              \n",
      "..                                                 ...                                              \n",
      "500   0.06263   0.00  11.930  0  0.5730  6.5930  69...                                              \n",
      "501   0.04527   0.00  11.930  0  0.5730  6.1200  76...                                              \n",
      "502   0.06076   0.00  11.930  0  0.5730  6.9760  91...                                              \n",
      "503   0.10959   0.00  11.930  0  0.5730  6.7940  89...                                              \n",
      "504   0.04741   0.00  11.930  0  0.5730  6.0300  80...                                              \n",
      "\n",
      "[505 rows x 1 columns]\n"
     ]
    }
   ],
   "source": [
    "df = pd.read_csv('housing.csv')\n",
    "print(df)\n",
    "# print(df.to_string())  Print the entire DataFrame"
   ]
  },
  {
   "cell_type": "markdown",
   "metadata": {},
   "source": [
    "### Viewing the Data\n",
    "One of the most used method for getting a quick overview of the DataFrame, is the head() method.\n",
    "The head() method returns the headers and a specified number of rows, starting from the top."
   ]
  },
  {
   "cell_type": "code",
   "execution_count": 14,
   "metadata": {},
   "outputs": [
    {
     "name": "stdout",
     "output_type": "stream",
     "text": [
      "   0.00632  18.00   2.310  0  0.5380  6.5750  65.20  4.0900   1  296.0  15.30 396.90   4.98  24.00\n",
      "0   0.02731   0.00   7.070  0  0.4690  6.4210  78...                                              \n",
      "1   0.02729   0.00   7.070  0  0.4690  7.1850  61...                                              \n",
      "2   0.03237   0.00   2.180  0  0.4580  6.9980  45...                                              \n",
      "3   0.06905   0.00   2.180  0  0.4580  7.1470  54...                                              \n",
      "4   0.02985   0.00   2.180  0  0.4580  6.4300  58...                                              \n",
      "5   0.08829  12.50   7.870  0  0.5240  6.0120  66...                                              \n",
      "6   0.14455  12.50   7.870  0  0.5240  6.1720  96...                                              \n",
      "7   0.21124  12.50   7.870  0  0.5240  5.6310 100...                                              \n",
      "8   0.17004  12.50   7.870  0  0.5240  6.0040  85...                                              \n",
      "9   0.22489  12.50   7.870  0  0.5240  6.3770  94...                                              \n"
     ]
    }
   ],
   "source": [
    "#Get a quick overview by printing the first 10 rows of the DataFrame:\n",
    "print(df.head(10))\n",
    "\n",
    "# print(df.head()) Note : if the number of rows is not specified, the head() method will return the top 5 rows."
   ]
  },
  {
   "cell_type": "markdown",
   "metadata": {},
   "source": [
    "## tail()\n",
    "There is also a tail() method for viewing the last rows of the DataFrame.\n",
    "\n",
    "The tail() method returns the headers and a specified number of rows, starting from the bottom."
   ]
  },
  {
   "cell_type": "code",
   "execution_count": 15,
   "metadata": {},
   "outputs": [
    {
     "name": "stdout",
     "output_type": "stream",
     "text": [
      "     0.00632  18.00   2.310  0  0.5380  6.5750  65.20  4.0900   1  296.0  15.30 396.90   4.98  24.00\n",
      "500   0.06263   0.00  11.930  0  0.5730  6.5930  69...                                              \n",
      "501   0.04527   0.00  11.930  0  0.5730  6.1200  76...                                              \n",
      "502   0.06076   0.00  11.930  0  0.5730  6.9760  91...                                              \n",
      "503   0.10959   0.00  11.930  0  0.5730  6.7940  89...                                              \n",
      "504   0.04741   0.00  11.930  0  0.5730  6.0300  80...                                              \n"
     ]
    }
   ],
   "source": [
    "print(df.tail())   \n",
    "# You can pass parameter also line ->  tail(100) that returns last 100 values"
   ]
  },
  {
   "cell_type": "markdown",
   "metadata": {},
   "source": [
    "# Info About the Data\n",
    "The DataFrames object has a method called info(), that gives you more information about the data set."
   ]
  },
  {
   "cell_type": "code",
   "execution_count": 16,
   "metadata": {},
   "outputs": [
    {
     "name": "stdout",
     "output_type": "stream",
     "text": [
      "<class 'pandas.core.frame.DataFrame'>\n",
      "RangeIndex: 169 entries, 0 to 168\n",
      "Data columns (total 4 columns):\n",
      " #   Column    Non-Null Count  Dtype  \n",
      "---  ------    --------------  -----  \n",
      " 0   Duration  169 non-null    int64  \n",
      " 1   Pulse     169 non-null    int64  \n",
      " 2   Maxpulse  169 non-null    int64  \n",
      " 3   Calories  164 non-null    float64\n",
      "dtypes: float64(1), int64(3)\n",
      "memory usage: 5.4 KB\n",
      "None\n"
     ]
    }
   ],
   "source": [
    "#Print information about the data:\n",
    "df = pd.read_csv('data.csv')\n",
    "print(df.info())"
   ]
  },
  {
   "cell_type": "code",
   "execution_count": 17,
   "metadata": {},
   "outputs": [
    {
     "data": {
      "text/html": [
       "<div>\n",
       "<style scoped>\n",
       "    .dataframe tbody tr th:only-of-type {\n",
       "        vertical-align: middle;\n",
       "    }\n",
       "\n",
       "    .dataframe tbody tr th {\n",
       "        vertical-align: top;\n",
       "    }\n",
       "\n",
       "    .dataframe thead th {\n",
       "        text-align: right;\n",
       "    }\n",
       "</style>\n",
       "<table border=\"1\" class=\"dataframe\">\n",
       "  <thead>\n",
       "    <tr style=\"text-align: right;\">\n",
       "      <th></th>\n",
       "      <th>Duration</th>\n",
       "      <th>Pulse</th>\n",
       "      <th>Maxpulse</th>\n",
       "      <th>Calories</th>\n",
       "    </tr>\n",
       "  </thead>\n",
       "  <tbody>\n",
       "    <tr>\n",
       "      <th>count</th>\n",
       "      <td>169.000000</td>\n",
       "      <td>169.000000</td>\n",
       "      <td>169.000000</td>\n",
       "      <td>164.000000</td>\n",
       "    </tr>\n",
       "    <tr>\n",
       "      <th>mean</th>\n",
       "      <td>63.846154</td>\n",
       "      <td>107.461538</td>\n",
       "      <td>134.047337</td>\n",
       "      <td>375.790244</td>\n",
       "    </tr>\n",
       "    <tr>\n",
       "      <th>std</th>\n",
       "      <td>42.299949</td>\n",
       "      <td>14.510259</td>\n",
       "      <td>16.450434</td>\n",
       "      <td>266.379919</td>\n",
       "    </tr>\n",
       "    <tr>\n",
       "      <th>min</th>\n",
       "      <td>15.000000</td>\n",
       "      <td>80.000000</td>\n",
       "      <td>100.000000</td>\n",
       "      <td>50.300000</td>\n",
       "    </tr>\n",
       "    <tr>\n",
       "      <th>25%</th>\n",
       "      <td>45.000000</td>\n",
       "      <td>100.000000</td>\n",
       "      <td>124.000000</td>\n",
       "      <td>250.925000</td>\n",
       "    </tr>\n",
       "    <tr>\n",
       "      <th>50%</th>\n",
       "      <td>60.000000</td>\n",
       "      <td>105.000000</td>\n",
       "      <td>131.000000</td>\n",
       "      <td>318.600000</td>\n",
       "    </tr>\n",
       "    <tr>\n",
       "      <th>75%</th>\n",
       "      <td>60.000000</td>\n",
       "      <td>111.000000</td>\n",
       "      <td>141.000000</td>\n",
       "      <td>387.600000</td>\n",
       "    </tr>\n",
       "    <tr>\n",
       "      <th>max</th>\n",
       "      <td>300.000000</td>\n",
       "      <td>159.000000</td>\n",
       "      <td>184.000000</td>\n",
       "      <td>1860.400000</td>\n",
       "    </tr>\n",
       "  </tbody>\n",
       "</table>\n",
       "</div>"
      ],
      "text/plain": [
       "         Duration       Pulse    Maxpulse     Calories\n",
       "count  169.000000  169.000000  169.000000   164.000000\n",
       "mean    63.846154  107.461538  134.047337   375.790244\n",
       "std     42.299949   14.510259   16.450434   266.379919\n",
       "min     15.000000   80.000000  100.000000    50.300000\n",
       "25%     45.000000  100.000000  124.000000   250.925000\n",
       "50%     60.000000  105.000000  131.000000   318.600000\n",
       "75%     60.000000  111.000000  141.000000   387.600000\n",
       "max    300.000000  159.000000  184.000000  1860.400000"
      ]
     },
     "execution_count": 17,
     "metadata": {},
     "output_type": "execute_result"
    }
   ],
   "source": [
    "#df.describe() | Summary statistics for numerical columns\n",
    "df.describe()"
   ]
  },
  {
   "cell_type": "markdown",
   "metadata": {},
   "source": [
    "# Exporting Data\n",
    "#### df.to_csv(filename) | Write to a CSV file\n",
    "#### df.to_excel(filename) | Write to an Excel file\n",
    "#### df.to_sql(table_name, connection_object) | Write to a SQL table\n",
    "#### df.to_json(filename) | Write to a file in JSON format\n"
   ]
  },
  {
   "cell_type": "code",
   "execution_count": 18,
   "metadata": {},
   "outputs": [],
   "source": [
    " df.to_csv('new.csv')  # Check Directory "
   ]
  },
  {
   "cell_type": "markdown",
   "metadata": {},
   "source": [
    "# Data Cleaning\n",
    "Data cleaning means fixing bad data in your data set.\n",
    "\n",
    "Bad data could be:\n",
    "\n",
    "####  1.  Empty cells\n",
    "####  2. Data in wrong format\n",
    "####  3. Wrong data\n",
    "####  4. Duplicates"
   ]
  },
  {
   "cell_type": "code",
   "execution_count": 19,
   "metadata": {},
   "outputs": [
    {
     "name": "stdout",
     "output_type": "stream",
     "text": [
      "     Duration  Pulse  Maxpulse  Calories\n",
      "0          60    110       130     409.1\n",
      "1          60    117       145     479.0\n",
      "2          60    103       135     340.0\n",
      "3          45    109       175     282.4\n",
      "4          45    117       148     406.0\n",
      "5          60    102       127     300.0\n",
      "6          60    110       136     374.0\n",
      "7          45    104       134     253.3\n",
      "8          30    109       133     195.1\n",
      "9          60     98       124     269.0\n",
      "10         60    103       147     329.3\n",
      "11         60    100       120     250.7\n",
      "12         60    106       128     345.3\n",
      "13         60    104       132     379.3\n",
      "14         60     98       123     275.0\n",
      "15         60     98       120     215.2\n",
      "16         60    100       120     300.0\n",
      "17         45     90       112       NaN\n",
      "18         60    103       123     323.0\n",
      "19         45     97       125     243.0\n",
      "20         60    108       131     364.2\n",
      "21         45    100       119     282.0\n",
      "22         60    130       101     300.0\n",
      "23         45    105       132     246.0\n",
      "24         60    102       126     334.5\n",
      "25         60    100       120     250.0\n",
      "26         60     92       118     241.0\n",
      "27         60    103       132       NaN\n",
      "28         60    100       132     280.0\n",
      "29         60    102       129     380.3\n",
      "30         60     92       115     243.0\n",
      "31         45     90       112     180.1\n",
      "32         60    101       124     299.0\n",
      "33         60     93       113     223.0\n",
      "34         60    107       136     361.0\n",
      "35         60    114       140     415.0\n",
      "36         60    102       127     300.0\n",
      "37         60    100       120     300.0\n",
      "38         60    100       120     300.0\n",
      "39         45    104       129     266.0\n",
      "40         45     90       112     180.1\n",
      "41         60     98       126     286.0\n",
      "42         60    100       122     329.4\n",
      "43         60    111       138     400.0\n",
      "44         60    111       131     397.0\n",
      "45         60     99       119     273.0\n",
      "46         60    109       153     387.6\n",
      "47         45    111       136     300.0\n",
      "48         45    108       129     298.0\n",
      "49         60    111       139     397.6\n",
      "50         60    107       136     380.2\n",
      "51         80    123       146     643.1\n",
      "52         60    106       130     263.0\n",
      "53         60    118       151     486.0\n",
      "54         30    136       175     238.0\n",
      "55         60    121       146     450.7\n",
      "56         60    118       121     413.0\n",
      "57         45    115       144     305.0\n",
      "58         20    153       172     226.4\n",
      "59         45    123       152     321.0\n",
      "60        210    108       160    1376.0\n",
      "61        160    110       137    1034.4\n",
      "62        160    109       135     853.0\n",
      "63         45    118       141     341.0\n",
      "64         20    110       130     131.4\n",
      "65        180     90       130     800.4\n",
      "66        150    105       135     873.4\n",
      "67        150    107       130     816.0\n",
      "68         20    106       136     110.4\n",
      "69        300    108       143    1500.2\n",
      "70        150     97       129    1115.0\n",
      "71         60    109       153     387.6\n",
      "72         90    100       127     700.0\n",
      "73        150     97       127     953.2\n",
      "74         45    114       146     304.0\n",
      "75         90     98       125     563.2\n",
      "76         45    105       134     251.0\n",
      "77         45    110       141     300.0\n",
      "78        120    100       130     500.4\n",
      "79        270    100       131    1729.0\n",
      "80         30    159       182     319.2\n",
      "81         45    149       169     344.0\n",
      "82         30    103       139     151.1\n",
      "83        120    100       130     500.0\n",
      "84         45    100       120     225.3\n",
      "85         30    151       170     300.0\n",
      "86         45    102       136     234.0\n",
      "87        120    100       157    1000.1\n",
      "88         45    129       103     242.0\n",
      "89         20     83       107      50.3\n",
      "90        180    101       127     600.1\n",
      "91         45    107       137       NaN\n",
      "92         30     90       107     105.3\n",
      "93         15     80       100      50.5\n",
      "94         20    150       171     127.4\n",
      "95         20    151       168     229.4\n",
      "96         30     95       128     128.2\n",
      "97         25    152       168     244.2\n",
      "98         30    109       131     188.2\n",
      "99         90     93       124     604.1\n",
      "100        20     95       112      77.7\n",
      "101        90     90       110     500.0\n",
      "102        90     90       100     500.0\n",
      "103        90     90       100     500.4\n",
      "104        30     92       108      92.7\n",
      "105        30     93       128     124.0\n",
      "106       180     90       120     800.3\n",
      "107        30     90       120      86.2\n",
      "108        90     90       120     500.3\n",
      "109       210    137       184    1860.4\n",
      "110        60    102       124     325.2\n",
      "111        45    107       124     275.0\n",
      "112        15    124       139     124.2\n",
      "113        45    100       120     225.3\n",
      "114        60    108       131     367.6\n",
      "115        60    108       151     351.7\n",
      "116        60    116       141     443.0\n",
      "117        60     97       122     277.4\n",
      "118        60    105       125       NaN\n",
      "119        60    103       124     332.7\n",
      "120        30    112       137     193.9\n",
      "121        45    100       120     100.7\n",
      "122        60    119       169     336.7\n",
      "123        60    107       127     344.9\n",
      "124        60    111       151     368.5\n",
      "125        60     98       122     271.0\n",
      "126        60     97       124     275.3\n",
      "127        60    109       127     382.0\n",
      "128        90     99       125     466.4\n",
      "129        60    114       151     384.0\n",
      "130        60    104       134     342.5\n",
      "131        60    107       138     357.5\n",
      "132        60    103       133     335.0\n",
      "133        60    106       132     327.5\n",
      "134        60    103       136     339.0\n",
      "135        20    136       156     189.0\n",
      "136        45    117       143     317.7\n",
      "137        45    115       137     318.0\n",
      "138        45    113       138     308.0\n",
      "139        20    141       162     222.4\n",
      "140        60    108       135     390.0\n",
      "141        60     97       127       NaN\n",
      "142        45    100       120     250.4\n",
      "143        45    122       149     335.4\n",
      "144        60    136       170     470.2\n",
      "145        45    106       126     270.8\n",
      "146        60    107       136     400.0\n",
      "147        60    112       146     361.9\n",
      "148        30    103       127     185.0\n",
      "149        60    110       150     409.4\n",
      "150        60    106       134     343.0\n",
      "151        60    109       129     353.2\n",
      "152        60    109       138     374.0\n",
      "153        30    150       167     275.8\n",
      "154        60    105       128     328.0\n",
      "155        60    111       151     368.5\n",
      "156        60     97       131     270.4\n",
      "157        60    100       120     270.4\n",
      "158        60    114       150     382.8\n",
      "159        30     80       120     240.9\n",
      "160        30     85       120     250.4\n",
      "161        45     90       130     260.4\n",
      "162        45     95       130     270.0\n",
      "163        45    100       140     280.9\n",
      "164        60    105       140     290.8\n",
      "165        60    110       145     300.0\n",
      "166        60    115       145     310.2\n",
      "167        75    120       150     320.4\n",
      "168        75    125       150     330.4\n"
     ]
    }
   ],
   "source": [
    "df = pd.read_csv('data.csv')\n",
    "print(df.to_string())\n"
   ]
  },
  {
   "cell_type": "markdown",
   "metadata": {},
   "source": [
    "###  Note: By default, the dropna() method returns a new DataFrame, and will not change the original.\n",
    "If you want to change the original DataFrame, use the inplace = True argument:"
   ]
  },
  {
   "cell_type": "code",
   "execution_count": 20,
   "metadata": {},
   "outputs": [],
   "source": [
    "#Remove all rows with NULL values:\n",
    " \n",
    "# df.dropna(inplace = True)\n",
    "# print(df.to_string())\n",
    " "
   ]
  },
  {
   "cell_type": "markdown",
   "metadata": {},
   "source": [
    "## Replace Empty Values\n",
    "Another way of dealing with empty cells is to insert a new value instead.\n",
    "\n",
    "This way you do not have to delete entire rows just because of some empty cells.\n",
    "\n",
    "The fillna() method allows us to replace empty cells with a value:"
   ]
  },
  {
   "cell_type": "code",
   "execution_count": 21,
   "metadata": {},
   "outputs": [],
   "source": [
    "#print(df.to_string()) # check is there any Nan value \n",
    "# Replace NULL values with the number 130:\n",
    "# df.fillna(100, inplace = True)\n",
    "#print(df.to_string())"
   ]
  },
  {
   "cell_type": "markdown",
   "metadata": {},
   "source": [
    "## Replace Only For a Specified Columns\n",
    "The example above replaces all empty cells in the whole Data Frame.\n",
    "\n",
    "To only replace empty values for one column, specify the column name for the DataFrame:\n",
    "#### Replace NULL values in the \"Calories\" columns with the number 130:\n"
   ]
  },
  {
   "cell_type": "code",
   "execution_count": 22,
   "metadata": {},
   "outputs": [
    {
     "name": "stdout",
     "output_type": "stream",
     "text": [
      "     Duration  Pulse  Maxpulse  Calories\n",
      "0          60    110       130     409.1\n",
      "1          60    117       145     479.0\n",
      "2          60    103       135     340.0\n",
      "3          45    109       175     282.4\n",
      "4          45    117       148     406.0\n",
      "5          60    102       127     300.0\n",
      "6          60    110       136     374.0\n",
      "7          45    104       134     253.3\n",
      "8          30    109       133     195.1\n",
      "9          60     98       124     269.0\n",
      "10         60    103       147     329.3\n",
      "11         60    100       120     250.7\n",
      "12         60    106       128     345.3\n",
      "13         60    104       132     379.3\n",
      "14         60     98       123     275.0\n",
      "15         60     98       120     215.2\n",
      "16         60    100       120     300.0\n",
      "17         45     90       112    1000.0\n",
      "18         60    103       123     323.0\n",
      "19         45     97       125     243.0\n",
      "20         60    108       131     364.2\n",
      "21         45    100       119     282.0\n",
      "22         60    130       101     300.0\n",
      "23         45    105       132     246.0\n",
      "24         60    102       126     334.5\n",
      "25         60    100       120     250.0\n",
      "26         60     92       118     241.0\n",
      "27         60    103       132    1000.0\n",
      "28         60    100       132     280.0\n",
      "29         60    102       129     380.3\n",
      "30         60     92       115     243.0\n",
      "31         45     90       112     180.1\n",
      "32         60    101       124     299.0\n",
      "33         60     93       113     223.0\n",
      "34         60    107       136     361.0\n",
      "35         60    114       140     415.0\n",
      "36         60    102       127     300.0\n",
      "37         60    100       120     300.0\n",
      "38         60    100       120     300.0\n",
      "39         45    104       129     266.0\n",
      "40         45     90       112     180.1\n",
      "41         60     98       126     286.0\n",
      "42         60    100       122     329.4\n",
      "43         60    111       138     400.0\n",
      "44         60    111       131     397.0\n",
      "45         60     99       119     273.0\n",
      "46         60    109       153     387.6\n",
      "47         45    111       136     300.0\n",
      "48         45    108       129     298.0\n",
      "49         60    111       139     397.6\n",
      "50         60    107       136     380.2\n",
      "51         80    123       146     643.1\n",
      "52         60    106       130     263.0\n",
      "53         60    118       151     486.0\n",
      "54         30    136       175     238.0\n",
      "55         60    121       146     450.7\n",
      "56         60    118       121     413.0\n",
      "57         45    115       144     305.0\n",
      "58         20    153       172     226.4\n",
      "59         45    123       152     321.0\n",
      "60        210    108       160    1376.0\n",
      "61        160    110       137    1034.4\n",
      "62        160    109       135     853.0\n",
      "63         45    118       141     341.0\n",
      "64         20    110       130     131.4\n",
      "65        180     90       130     800.4\n",
      "66        150    105       135     873.4\n",
      "67        150    107       130     816.0\n",
      "68         20    106       136     110.4\n",
      "69        300    108       143    1500.2\n",
      "70        150     97       129    1115.0\n",
      "71         60    109       153     387.6\n",
      "72         90    100       127     700.0\n",
      "73        150     97       127     953.2\n",
      "74         45    114       146     304.0\n",
      "75         90     98       125     563.2\n",
      "76         45    105       134     251.0\n",
      "77         45    110       141     300.0\n",
      "78        120    100       130     500.4\n",
      "79        270    100       131    1729.0\n",
      "80         30    159       182     319.2\n",
      "81         45    149       169     344.0\n",
      "82         30    103       139     151.1\n",
      "83        120    100       130     500.0\n",
      "84         45    100       120     225.3\n",
      "85         30    151       170     300.0\n",
      "86         45    102       136     234.0\n",
      "87        120    100       157    1000.1\n",
      "88         45    129       103     242.0\n",
      "89         20     83       107      50.3\n",
      "90        180    101       127     600.1\n",
      "91         45    107       137    1000.0\n",
      "92         30     90       107     105.3\n",
      "93         15     80       100      50.5\n",
      "94         20    150       171     127.4\n",
      "95         20    151       168     229.4\n",
      "96         30     95       128     128.2\n",
      "97         25    152       168     244.2\n",
      "98         30    109       131     188.2\n",
      "99         90     93       124     604.1\n",
      "100        20     95       112      77.7\n",
      "101        90     90       110     500.0\n",
      "102        90     90       100     500.0\n",
      "103        90     90       100     500.4\n",
      "104        30     92       108      92.7\n",
      "105        30     93       128     124.0\n",
      "106       180     90       120     800.3\n",
      "107        30     90       120      86.2\n",
      "108        90     90       120     500.3\n",
      "109       210    137       184    1860.4\n",
      "110        60    102       124     325.2\n",
      "111        45    107       124     275.0\n",
      "112        15    124       139     124.2\n",
      "113        45    100       120     225.3\n",
      "114        60    108       131     367.6\n",
      "115        60    108       151     351.7\n",
      "116        60    116       141     443.0\n",
      "117        60     97       122     277.4\n",
      "118        60    105       125    1000.0\n",
      "119        60    103       124     332.7\n",
      "120        30    112       137     193.9\n",
      "121        45    100       120     100.7\n",
      "122        60    119       169     336.7\n",
      "123        60    107       127     344.9\n",
      "124        60    111       151     368.5\n",
      "125        60     98       122     271.0\n",
      "126        60     97       124     275.3\n",
      "127        60    109       127     382.0\n",
      "128        90     99       125     466.4\n",
      "129        60    114       151     384.0\n",
      "130        60    104       134     342.5\n",
      "131        60    107       138     357.5\n",
      "132        60    103       133     335.0\n",
      "133        60    106       132     327.5\n",
      "134        60    103       136     339.0\n",
      "135        20    136       156     189.0\n",
      "136        45    117       143     317.7\n",
      "137        45    115       137     318.0\n",
      "138        45    113       138     308.0\n",
      "139        20    141       162     222.4\n",
      "140        60    108       135     390.0\n",
      "141        60     97       127    1000.0\n",
      "142        45    100       120     250.4\n",
      "143        45    122       149     335.4\n",
      "144        60    136       170     470.2\n",
      "145        45    106       126     270.8\n",
      "146        60    107       136     400.0\n",
      "147        60    112       146     361.9\n",
      "148        30    103       127     185.0\n",
      "149        60    110       150     409.4\n",
      "150        60    106       134     343.0\n",
      "151        60    109       129     353.2\n",
      "152        60    109       138     374.0\n",
      "153        30    150       167     275.8\n",
      "154        60    105       128     328.0\n",
      "155        60    111       151     368.5\n",
      "156        60     97       131     270.4\n",
      "157        60    100       120     270.4\n",
      "158        60    114       150     382.8\n",
      "159        30     80       120     240.9\n",
      "160        30     85       120     250.4\n",
      "161        45     90       130     260.4\n",
      "162        45     95       130     270.0\n",
      "163        45    100       140     280.9\n",
      "164        60    105       140     290.8\n",
      "165        60    110       145     300.0\n",
      "166        60    115       145     310.2\n",
      "167        75    120       150     320.4\n",
      "168        75    125       150     330.4\n"
     ]
    }
   ],
   "source": [
    "df[\"Calories\"].fillna(1000, inplace = True)\n",
    "print(df.to_string())"
   ]
  },
  {
   "cell_type": "markdown",
   "metadata": {},
   "source": [
    "## Replace Using Mean, Median, or Mode\n",
    "A common way to replace empty cells, is to calculate the mean, median or mode value of the column.\n",
    "### Pandas uses the \n",
    "### mean() , median() and mode() methods to calculate the respective values for a specified column:"
   ]
  },
  {
   "cell_type": "code",
   "execution_count": 24,
   "metadata": {},
   "outputs": [
    {
     "name": "stdout",
     "output_type": "stream",
     "text": [
      "375.79024390243916\n"
     ]
    }
   ],
   "source": [
    "# Calculate the MEAN, and replace any empty values with it:\n",
    "\n",
    "df = pd.read_csv('data.csv')\n",
    "x = df[\"Calories\"].mean()\n",
    "print(x)\n",
    "df[\"Calories\"].fillna(x, inplace = True)"
   ]
  },
  {
   "cell_type": "markdown",
   "metadata": {},
   "source": [
    "### Mean = the average value (the sum of all values divided by number of values)."
   ]
  },
  {
   "cell_type": "code",
   "execution_count": 28,
   "metadata": {
    "collapsed": true
   },
   "outputs": [
    {
     "name": "stdout",
     "output_type": "stream",
     "text": [
      "318.6\n"
     ]
    },
    {
     "data": {
      "text/plain": [
       "0      409.1\n",
       "1      479.0\n",
       "2      340.0\n",
       "3      282.4\n",
       "4      406.0\n",
       "       ...  \n",
       "164    290.8\n",
       "165    300.0\n",
       "166    310.2\n",
       "167    320.4\n",
       "168    330.4\n",
       "Name: Calories, Length: 169, dtype: float64"
      ]
     },
     "execution_count": 28,
     "metadata": {},
     "output_type": "execute_result"
    }
   ],
   "source": [
    "# Calculate the MEDIAN, and replace any empty values with it:\n",
    "\n",
    "df = pd.read_csv('data.csv')\n",
    "x = df[\"Calories\"].median()\n",
    "print(x)\n",
    "df[\"Calories\"].fillna(x, inplace = True)\n",
    "df['Calories']\n"
   ]
  },
  {
   "cell_type": "markdown",
   "metadata": {},
   "source": [
    "## Median = the value in the middle, after you have sorted all values ascending."
   ]
  },
  {
   "cell_type": "code",
   "execution_count": 29,
   "metadata": {},
   "outputs": [],
   "source": [
    "#Calculate the MODE, and replace any empty values with it:\n",
    "\n",
    "df = pd.read_csv('data.csv')\n",
    "x = df[\"Calories\"].mode()[0]\n",
    "df[\"Calories\"].fillna(x, inplace = True)"
   ]
  },
  {
   "cell_type": "markdown",
   "metadata": {},
   "source": [
    "# Pandas - Cleaning Data of Wrong Format\n",
    "Data of Wrong Format\n",
    "Cells with data of wrong format can make it difficult, or even impossible, to analyze data.\n",
    "To fix it, you have two options: remove the rows, or convert all cells in the columns into the same format.\n",
    "\n",
    "## Convert Into a Correct Format\n",
    "In our Data Frame, we have two cells with the wrong format. Check out row 22 and 26, the 'Date' column should be a string that represents a date:\n",
    "\n",
    "### Pandas has a to_datetime() method for this:"
   ]
  },
  {
   "cell_type": "code",
   "execution_count": 36,
   "metadata": {
    "collapsed": true
   },
   "outputs": [
    {
     "name": "stdout",
     "output_type": "stream",
     "text": [
      "     Duration  Pulse  Maxpulse  Calories       Date\n",
      "0          60    110       130     409.1 2020-12-01\n",
      "1          60    117       145     479.0 2020-12-02\n",
      "2          60    103       135     340.0 2020-12-03\n",
      "3          45    109       175     282.4 2020-12-04\n",
      "4          45    117       148     406.0 2020-12-05\n",
      "5          60    102       127     300.0 2020-12-06\n",
      "6          60    110       136     374.0 2020-12-07\n",
      "7          45    104       134     253.3 2020-12-08\n",
      "8          30    109       133     195.1 2020-12-09\n",
      "9          60     98       124     269.0 2020-12-10\n",
      "10         60    103       147     329.3 2020-12-11\n",
      "11         60    100       120     250.7 2020-12-12\n",
      "12         60    106       128     345.3 2020-12-13\n",
      "13         60    104       132     379.3 2020-12-14\n",
      "14         60     98       123     275.0 2020-12-15\n",
      "15         60     98       120     215.2 2020-12-16\n",
      "16         60    100       120     300.0 2020-12-17\n",
      "17         45     90       112       NaN 2020-12-18\n",
      "18         60    103       123     323.0 2020-12-19\n",
      "19         45     97       125     243.0 2020-12-20\n",
      "20         60    108       131     364.2 2020-12-21\n",
      "21         45    100       119     282.0 2020-12-22\n",
      "22         60    130       101     300.0 2020-12-23\n",
      "23         45    105       132     246.0 2020-12-24\n",
      "24         60    102       126     334.5 2020-12-25\n",
      "25         60    100       120     250.0 2020-12-26\n",
      "26         60     92       118     241.0 2020-12-27\n",
      "27         60    103       132       NaN 2020-12-28\n",
      "28         60    100       132     280.0 2020-12-29\n",
      "29         60    102       129     380.3 2020-12-30\n",
      "30         60     92       115     243.0 2020-12-31\n",
      "31         45     90       112     180.1 2021-01-01\n",
      "32         60    101       124     299.0 2021-01-02\n",
      "33         60     93       113     223.0 2021-01-03\n",
      "34         60    107       136     361.0 2021-01-04\n",
      "35         60    114       140     415.0 2021-01-05\n",
      "36         60    102       127     300.0 2021-01-06\n",
      "37         60    100       120     300.0 2021-01-07\n",
      "38         60    100       120     300.0 2021-01-08\n",
      "39         45    104       129     266.0 2021-01-09\n",
      "40         45     90       112     180.1 2021-01-10\n",
      "41         60     98       126     286.0 2021-01-11\n",
      "42         60    100       122     329.4 2021-01-12\n",
      "43         60    111       138     400.0 2021-01-13\n",
      "44         60    111       131     397.0 2021-01-14\n",
      "45         60     99       119     273.0 2021-01-15\n",
      "46         60    109       153     387.6 2021-01-16\n",
      "47         45    111       136     300.0 2021-01-17\n",
      "48         45    108       129     298.0 2021-01-18\n",
      "49         60    111       139     397.6 2021-01-19\n",
      "50         60    107       136     380.2 2021-01-20\n",
      "51         80    123       146     643.1 2021-01-21\n",
      "52         60    106       130     263.0 2021-01-22\n",
      "53         60    118       151     486.0 2021-01-23\n",
      "54         30    136       175     238.0 2021-01-24\n",
      "55         60    121       146     450.7 2021-01-25\n",
      "56         60    118       121     413.0 2021-01-26\n",
      "57         45    115       144     305.0 2021-01-27\n",
      "58         20    153       172     226.4 2021-01-28\n",
      "59         45    123       152     321.0 2021-01-29\n",
      "60        210    108       160    1376.0 2021-01-30\n",
      "61        160    110       137    1034.4 2021-01-31\n",
      "62        160    109       135     853.0 2021-02-01\n",
      "63         45    118       141     341.0 2021-02-02\n",
      "64         20    110       130     131.4 2021-02-03\n",
      "65        180     90       130     800.4 2021-02-04\n",
      "66        150    105       135     873.4 2021-02-05\n",
      "67        150    107       130     816.0 2021-02-06\n",
      "68         20    106       136     110.4 2021-02-07\n",
      "69        300    108       143    1500.2 2021-02-08\n",
      "70        150     97       129    1115.0 2021-02-09\n",
      "71         60    109       153     387.6 2021-02-10\n",
      "72         90    100       127     700.0 2021-02-11\n",
      "73        150     97       127     953.2 2021-02-12\n",
      "74         45    114       146     304.0 2021-02-13\n",
      "75         90     98       125     563.2 2021-02-14\n",
      "76         45    105       134     251.0 2021-02-15\n",
      "77         45    110       141     300.0 2021-02-16\n",
      "78        120    100       130     500.4 2021-02-17\n",
      "79        270    100       131    1729.0 2021-02-18\n",
      "80         30    159       182     319.2 2021-02-19\n",
      "81         45    149       169     344.0 2021-02-20\n",
      "82         30    103       139     151.1 2021-02-21\n",
      "83        120    100       130     500.0 2021-02-22\n",
      "84         45    100       120     225.3 2021-02-23\n",
      "85         30    151       170     300.0 2021-02-24\n",
      "86         45    102       136     234.0 2021-02-25\n",
      "87        120    100       157    1000.1 2021-02-26\n",
      "88         45    129       103     242.0 2021-02-27\n",
      "89         20     83       107      50.3 2021-02-28\n",
      "90        180    101       127     600.1 2021-03-01\n",
      "91         45    107       137       NaN 2021-03-02\n",
      "92         30     90       107     105.3 2021-03-03\n",
      "93         15     80       100      50.5 2021-03-04\n",
      "94         20    150       171     127.4 2021-03-05\n",
      "95         20    151       168     229.4 2021-03-06\n",
      "96         30     95       128     128.2 2021-03-07\n",
      "97         25    152       168     244.2 2021-03-08\n",
      "98         30    109       131     188.2 2021-03-09\n",
      "99         90     93       124     604.1 2021-03-10\n",
      "100        20     95       112      77.7 2021-03-11\n",
      "101        90     90       110     500.0 2021-03-12\n",
      "102        90     90       100     500.0 2021-03-13\n",
      "103        90     90       100     500.4 2021-03-14\n",
      "104        30     92       108      92.7 2021-03-15\n",
      "105        30     93       128     124.0 2021-03-16\n",
      "106       180     90       120     800.3 2021-03-17\n",
      "107        30     90       120      86.2 2021-03-18\n",
      "108        90     90       120     500.3 2021-03-19\n",
      "109       210    137       184    1860.4 2021-03-20\n",
      "110        60    102       124     325.2 2021-03-21\n",
      "111        45    107       124     275.0 2021-03-22\n",
      "112        15    124       139     124.2 2021-03-23\n",
      "113        45    100       120     225.3 2021-03-24\n",
      "114        60    108       131     367.6 2021-03-25\n",
      "115        60    108       151     351.7 2021-03-26\n",
      "116        60    116       141     443.0 2021-03-27\n",
      "117        60     97       122     277.4 2021-03-28\n",
      "118        60    105       125       NaN 2021-03-29\n",
      "119        60    103       124     332.7 2021-03-30\n",
      "120        30    112       137     193.9 2021-03-31\n",
      "121        45    100       120     100.7 2021-04-01\n",
      "122        60    119       169     336.7 2021-04-02\n",
      "123        60    107       127     344.9 2021-04-03\n",
      "124        60    111       151     368.5 2021-04-04\n",
      "125        60     98       122     271.0 2021-04-05\n",
      "126        60     97       124     275.3 2021-04-06\n",
      "127        60    109       127     382.0 2021-04-07\n",
      "128        90     99       125     466.4 2021-04-08\n",
      "129        60    114       151     384.0 2021-04-09\n",
      "130        60    104       134     342.5 2021-04-10\n",
      "131        60    107       138     357.5 2021-04-11\n",
      "132        60    103       133     335.0 2021-04-12\n",
      "133        60    106       132     327.5 2021-04-13\n",
      "134        60    103       136     339.0 2021-04-14\n",
      "135        20    136       156     189.0 2021-04-15\n",
      "136        45    117       143     317.7 2021-04-16\n",
      "137        45    115       137     318.0 2021-04-17\n",
      "138        45    113       138     308.0 2021-04-18\n",
      "139        20    141       162     222.4 2021-04-19\n",
      "140        60    108       135     390.0 2021-04-20\n",
      "141        60     97       127       NaN 2021-04-21\n",
      "142        45    100       120     250.4 2021-04-22\n",
      "143        45    122       149     335.4 2021-04-23\n",
      "144        60    136       170     470.2 2021-04-24\n",
      "145        45    106       126     270.8 2021-04-25\n",
      "146        60    107       136     400.0 2021-04-26\n",
      "147        60    112       146     361.9 2021-04-27\n",
      "148        30    103       127     185.0 2021-04-28\n",
      "149        60    110       150     409.4 2021-04-29\n",
      "150        60    106       134     343.0 2021-04-30\n",
      "151        60    109       129     353.2 2021-05-01\n",
      "152        60    109       138     374.0 2021-05-02\n",
      "153        30    150       167     275.8 2021-05-03\n",
      "154        60    105       128     328.0 2021-05-04\n",
      "155        60    111       151     368.5 2021-05-05\n",
      "156        60     97       131     270.4 2021-05-06\n",
      "157        60    100       120     270.4 2021-05-07\n",
      "158        60    114       150     382.8 2021-05-08\n",
      "159        30     80       120     240.9 2021-05-09\n",
      "160        30     85       120     250.4 2021-05-10\n",
      "161        45     90       130     260.4 2021-05-11\n",
      "162        45     95       130     270.0 2021-05-12\n",
      "163        45    100       140     280.9 2021-05-13\n",
      "164        60    105       140     290.8 2021-05-14\n",
      "165        60    110       145     300.0 2021-05-15\n",
      "166        60    115       145     310.2 2021-05-16\n",
      "167        75    120       150     320.4 2021-05-17\n",
      "168        75    125       150     330.4 2021-05-18\n"
     ]
    }
   ],
   "source": [
    "#Convert to date:\n",
    "\n",
    "import pandas as pd\n",
    "df = pd.read_csv('data.csv')\n",
    "df['Date'] = pd.to_datetime(df['Date'])\n",
    "print(df.to_string())"
   ]
  },
  {
   "cell_type": "markdown",
   "metadata": {},
   "source": [
    "## Removing Rows\n",
    "The result from the converting in the example above gave us a NaT value, which can be handled as a NULL value, and we can remove the row by using the dropna() method."
   ]
  },
  {
   "cell_type": "code",
   "execution_count": 37,
   "metadata": {},
   "outputs": [
    {
     "data": {
      "text/html": [
       "<div>\n",
       "<style scoped>\n",
       "    .dataframe tbody tr th:only-of-type {\n",
       "        vertical-align: middle;\n",
       "    }\n",
       "\n",
       "    .dataframe tbody tr th {\n",
       "        vertical-align: top;\n",
       "    }\n",
       "\n",
       "    .dataframe thead th {\n",
       "        text-align: right;\n",
       "    }\n",
       "</style>\n",
       "<table border=\"1\" class=\"dataframe\">\n",
       "  <thead>\n",
       "    <tr style=\"text-align: right;\">\n",
       "      <th></th>\n",
       "      <th>Duration</th>\n",
       "      <th>Pulse</th>\n",
       "      <th>Maxpulse</th>\n",
       "      <th>Calories</th>\n",
       "      <th>Date</th>\n",
       "    </tr>\n",
       "  </thead>\n",
       "  <tbody>\n",
       "    <tr>\n",
       "      <th>0</th>\n",
       "      <td>60</td>\n",
       "      <td>110</td>\n",
       "      <td>130</td>\n",
       "      <td>409.1</td>\n",
       "      <td>2020-12-01</td>\n",
       "    </tr>\n",
       "    <tr>\n",
       "      <th>1</th>\n",
       "      <td>60</td>\n",
       "      <td>117</td>\n",
       "      <td>145</td>\n",
       "      <td>479.0</td>\n",
       "      <td>2020-12-02</td>\n",
       "    </tr>\n",
       "    <tr>\n",
       "      <th>2</th>\n",
       "      <td>60</td>\n",
       "      <td>103</td>\n",
       "      <td>135</td>\n",
       "      <td>340.0</td>\n",
       "      <td>2020-12-03</td>\n",
       "    </tr>\n",
       "    <tr>\n",
       "      <th>3</th>\n",
       "      <td>45</td>\n",
       "      <td>109</td>\n",
       "      <td>175</td>\n",
       "      <td>282.4</td>\n",
       "      <td>2020-12-04</td>\n",
       "    </tr>\n",
       "    <tr>\n",
       "      <th>4</th>\n",
       "      <td>45</td>\n",
       "      <td>117</td>\n",
       "      <td>148</td>\n",
       "      <td>406.0</td>\n",
       "      <td>2020-12-05</td>\n",
       "    </tr>\n",
       "    <tr>\n",
       "      <th>...</th>\n",
       "      <td>...</td>\n",
       "      <td>...</td>\n",
       "      <td>...</td>\n",
       "      <td>...</td>\n",
       "      <td>...</td>\n",
       "    </tr>\n",
       "    <tr>\n",
       "      <th>164</th>\n",
       "      <td>60</td>\n",
       "      <td>105</td>\n",
       "      <td>140</td>\n",
       "      <td>290.8</td>\n",
       "      <td>2021-05-14</td>\n",
       "    </tr>\n",
       "    <tr>\n",
       "      <th>165</th>\n",
       "      <td>60</td>\n",
       "      <td>110</td>\n",
       "      <td>145</td>\n",
       "      <td>300.0</td>\n",
       "      <td>2021-05-15</td>\n",
       "    </tr>\n",
       "    <tr>\n",
       "      <th>166</th>\n",
       "      <td>60</td>\n",
       "      <td>115</td>\n",
       "      <td>145</td>\n",
       "      <td>310.2</td>\n",
       "      <td>2021-05-16</td>\n",
       "    </tr>\n",
       "    <tr>\n",
       "      <th>167</th>\n",
       "      <td>75</td>\n",
       "      <td>120</td>\n",
       "      <td>150</td>\n",
       "      <td>320.4</td>\n",
       "      <td>2021-05-17</td>\n",
       "    </tr>\n",
       "    <tr>\n",
       "      <th>168</th>\n",
       "      <td>75</td>\n",
       "      <td>125</td>\n",
       "      <td>150</td>\n",
       "      <td>330.4</td>\n",
       "      <td>2021-05-18</td>\n",
       "    </tr>\n",
       "  </tbody>\n",
       "</table>\n",
       "<p>169 rows × 5 columns</p>\n",
       "</div>"
      ],
      "text/plain": [
       "     Duration  Pulse  Maxpulse  Calories       Date\n",
       "0          60    110       130     409.1 2020-12-01\n",
       "1          60    117       145     479.0 2020-12-02\n",
       "2          60    103       135     340.0 2020-12-03\n",
       "3          45    109       175     282.4 2020-12-04\n",
       "4          45    117       148     406.0 2020-12-05\n",
       "..        ...    ...       ...       ...        ...\n",
       "164        60    105       140     290.8 2021-05-14\n",
       "165        60    110       145     300.0 2021-05-15\n",
       "166        60    115       145     310.2 2021-05-16\n",
       "167        75    120       150     320.4 2021-05-17\n",
       "168        75    125       150     330.4 2021-05-18\n",
       "\n",
       "[169 rows x 5 columns]"
      ]
     },
     "execution_count": 37,
     "metadata": {},
     "output_type": "execute_result"
    }
   ],
   "source": [
    "#Remove rows with a NULL value in the \"Date\" column:\n",
    "df.dropna(subset=['Date'], inplace = True)\n",
    "df"
   ]
  },
  {
   "cell_type": "markdown",
   "metadata": {},
   "source": [
    "## Pandas - Removing Duplicates\n",
    "Discovering Duplicates\n",
    "Duplicate rows are rows that have been registered more than one time.\n",
    "\n",
    "### By taking a look at our test data set, we can assume that row 11 and 12 are duplicates.\n",
    "\n",
    "To discover duplicates, we can use the duplicated() method.\n",
    "\n",
    "The duplicated() method returns a Boolean values for each row:\n"
   ]
  },
  {
   "cell_type": "code",
   "execution_count": 38,
   "metadata": {},
   "outputs": [
    {
     "name": "stdout",
     "output_type": "stream",
     "text": [
      "0      False\n",
      "1      False\n",
      "2      False\n",
      "3      False\n",
      "4      False\n",
      "       ...  \n",
      "164    False\n",
      "165    False\n",
      "166    False\n",
      "167    False\n",
      "168    False\n",
      "Length: 169, dtype: bool\n"
     ]
    }
   ],
   "source": [
    "print(df.duplicated())"
   ]
  },
  {
   "cell_type": "markdown",
   "metadata": {},
   "source": [
    "# Reference \n",
    "1. https://www.dataquest.io\n",
    "2. https://www.w3schools.com/python/pandas\n",
    "3. https://www.geeksforgeeks.org/pandas-tutorial/\n",
    "4. https://jupyterlab.readthedocs.io/en/stable/user/interface.html"
   ]
  }
 ],
 "metadata": {
  "kernelspec": {
   "display_name": "Python 3",
   "language": "python",
   "name": "python3"
  },
  "language_info": {
   "codemirror_mode": {
    "name": "ipython",
    "version": 3
   },
   "file_extension": ".py",
   "mimetype": "text/x-python",
   "name": "python",
   "nbconvert_exporter": "python",
   "pygments_lexer": "ipython3",
   "version": "3.8.8"
  }
 },
 "nbformat": 4,
 "nbformat_minor": 4
}
